{
 "cells": [
  {
   "cell_type": "code",
   "execution_count": 1,
   "metadata": {},
   "outputs": [],
   "source": [
    "import os\n",
    "from typing import List\n",
    "\n",
    "import instructor\n",
    "from dotenv import load_dotenv\n",
    "from nltk import sent_tokenize\n",
    "from openai import OpenAI\n",
    "from pydantic import BaseModel, Field"
   ]
  },
  {
   "cell_type": "code",
   "execution_count": 2,
   "metadata": {},
   "outputs": [
    {
     "data": {
      "text/plain": [
       "True"
      ]
     },
     "execution_count": 2,
     "metadata": {},
     "output_type": "execute_result"
    }
   ],
   "source": [
    "# Load environment variables\n",
    "load_dotenv()"
   ]
  },
  {
   "cell_type": "code",
   "execution_count": 3,
   "metadata": {},
   "outputs": [],
   "source": [
    "class Entity(BaseModel):\n",
    "    entity: str = Field(\n",
    "        ...,\n",
    "        description=\"An entity in the text. Keep it short and simple. Pronouns should be resolved before adding it to the list of entities\",\n",
    "    )\n",
    "\n",
    "\n",
    "class EntityRelations(BaseModel):\n",
    "    first_entity: str = Field(..., description=\"The first entity in the relationship.\")\n",
    "    relationship: str = Field(\n",
    "        ..., description=\"The relationship between the two entities, should be a verb.\"\n",
    "    )\n",
    "    second_entity: str = Field(\n",
    "        ..., description=\"The second entity in the relationship.\"\n",
    "    )\n",
    "\n",
    "\n",
    "class KnowledgeGraphBuilder:\n",
    "    def __init__(self, entity_extractor, relations_extractor):\n",
    "        self.entity_extractor = entity_extractor\n",
    "        self.relations_extractor = relations_extractor\n",
    "        self.relations = []\n",
    "\n",
    "    def extract_entities(self, text):\n",
    "        return self.entity_extractor(text=text)\n",
    "\n",
    "    def extract_and_add_relations(self, text, entities):\n",
    "        list_of_entities = [entity.entity for entity in entities]\n",
    "        sentences = sent_tokenize(text)\n",
    "        for sentence in sentences:\n",
    "            existing_entities = \",\".join(list_of_entities)\n",
    "            response = self.relations_extractor(\n",
    "                text=sentence, existing_entities=existing_entities\n",
    "            )\n",
    "\n",
    "            for entity_rel in response:\n",
    "                if (\n",
    "                    entity_rel.first_entity in list_of_entities\n",
    "                    and entity_rel.second_entity in list_of_entities\n",
    "                ):\n",
    "                    self.relations.append(entity_rel)\n",
    "\n",
    "    def generate_mermaid(self):\n",
    "        mermaid_code = [\"```mermaid\", \"graph TD;\"]\n",
    "        for relation in self.relations:\n",
    "            mermaid_code.append(\n",
    "                f'    {relation.first_entity.replace(\" \", \"_\")}-->|{relation.relationship}|{relation.second_entity.replace(\" \", \"_\")}'\n",
    "            )\n",
    "        mermaid_code.append(\"```\")\n",
    "        return \"\\n\".join(mermaid_code)\n",
    "\n",
    "    def save_mermaid_to_file(self, filename=\"knowledge_graph.md\"):\n",
    "        mermaid_code = self.generate_mermaid()\n",
    "        with open(filename, \"w\") as f:\n",
    "            f.write(mermaid_code)\n",
    "        print(f\"Mermaid diagram saved to {filename}\")\n",
    "\n",
    "\n",
    "def configure_system(model: str = \"gpt-4o-mini\"):\n",
    "    api_key = os.getenv(\"OPENAI_API_KEY\")\n",
    "    if not api_key:\n",
    "        raise ValueError(\"API key for OpenAI is not set in environment variables.\")\n",
    "    llm = instructor.patch(OpenAI())\n",
    "\n",
    "    def entity_extractor(text):\n",
    "        entities = llm.chat.completions.create(\n",
    "            model=model,\n",
    "            response_model=List[Entity],\n",
    "            messages=[\n",
    "                {\"role\": \"system\", \"content\": \"You are a helpful assistant.\"},\n",
    "                {\"role\": \"user\", \"content\": f\"Extract entities from the text: {text}\"},\n",
    "            ],\n",
    "        )\n",
    "        return entities\n",
    "\n",
    "    def relations_extractor(text, existing_entities):\n",
    "        all_entities = \",\".join(existing_entities)\n",
    "        entities_relations = llm.chat.completions.create(\n",
    "            model=model,\n",
    "            response_model=List[EntityRelations],\n",
    "            messages=[\n",
    "                {\"role\": \"system\", \"content\": \"You are a helpful assistant.\"},\n",
    "                {\n",
    "                    \"role\": \"user\",\n",
    "                    \"content\": f\"Extract relationships from the text: {text} with entities: {all_entities}\",\n",
    "                },\n",
    "            ],\n",
    "        )\n",
    "        return entities_relations\n",
    "\n",
    "    return entity_extractor, relations_extractor"
   ]
  },
  {
   "cell_type": "code",
   "execution_count": 5,
   "metadata": {},
   "outputs": [
    {
     "name": "stdout",
     "output_type": "stream",
     "text": [
      "Mermaid diagram saved to Dario Amodei\n"
     ]
    }
   ],
   "source": [
    "entity_extractor, relations_extractor = configure_system()\n",
    "builder = KnowledgeGraphBuilder(entity_extractor, relations_extractor)\n",
    "\n",
    "text = \"\"\"\n",
    "Dario Amodei\n",
    "\n",
    "Born: 1983 (age 40-41)\n",
    "Citizenship: USA\n",
    "Alma mater: Caltech, Stanford University, Princeton University (PhD)\n",
    "Known for: Co-founder / CEO of Anthropic\n",
    "\n",
    "Scientific career:\n",
    "Fields: Artificial intelligence\n",
    "Institutions: Stanford University School of Medicine, OpenAI, Anthropic\n",
    "Thesis: \"Network-Scale Electrophysiology: Measuring and Understanding the Collective Behavior of Neural Circuits\" (2011)\n",
    "Doctoral advisors: Michael J. Berry, William Bialek\n",
    "\n",
    "Dario Amodei (born 1983) is an Italian-American artificial intelligence researcher and entrepreneur. He is the co-founder and CEO of Anthropic, the company behind the large language model series Claude AI. He was previously the vice president of research at OpenAI.\n",
    "\n",
    "Education:\n",
    "Dario grew up in San Francisco and graduated from Lowell High School. Amodei began his undergraduate studies at Caltech, where he worked with Tom Tombrello as one of Tombrello's Physics 11 students. He later transferred to Stanford University, where he earned his undergraduate degree in physics. He also holds a PhD in physics from Princeton University, where he studied electrophysiology of neural circuits. He was a postdoctoral scholar at the Stanford University School of Medicine.\n",
    "\n",
    "Career:\n",
    "From November 2014 until October 2015, he worked at Baidu. After that, he worked at Google. In 2016, Amodei joined OpenAI.\n",
    "\n",
    "In 2021, Amodei and his sister Daniela founded Anthropic along with other former senior members of OpenAI. The Amodei siblings were among those who left OpenAI due to directional differences, specifically regarding OpenAI's ventures with Microsoft in 2019.\n",
    "\n",
    "In July 2023, Amodei warned a United States Senate judiciary panel of the dangers of AI, including the risks it poses in the development and control of weaponry.\n",
    "\n",
    "In September 2023, Amodei and his sister Daniela were named as two of the TIME 100 Most Influential People in AI (TIME100 AI).\n",
    "\n",
    "In November 2023, the board of directors of OpenAI approached Amodei about replacing Sam Altman and potentially merging the two startups. Amodei declined both offers.\n",
    "\"\"\"\n",
    "\n",
    "entities = builder.extract_entities(text)\n",
    "builder.extract_and_add_relations(text, entities)\n",
    "builder.save_mermaid_to_file(filename=\"Dario Amodei.md\")"
   ]
  },
  {
   "cell_type": "code",
   "execution_count": 7,
   "metadata": {},
   "outputs": [
    {
     "name": "stdout",
     "output_type": "stream",
     "text": [
      "Mermaid diagram saved to Breaking Bad.md\n"
     ]
    }
   ],
   "source": [
    "entity_extractor, relations_extractor = configure_system()\n",
    "builder = KnowledgeGraphBuilder(entity_extractor, relations_extractor)\n",
    "text = \"\"\"\n",
    "Breaking Bad is a critically acclaimed American television drama series that aired from 2008 to 2013. Created by Vince Gilligan, the show follows the transformation of Walter White, a mild-mannered high school chemistry teacher, into a ruthless methamphetamine manufacturer and drug kingpin.\n",
    "The series is set in Albuquerque, New Mexico, and begins when Walter is diagnosed with terminal lung cancer. Faced with mounting medical bills and a desire to secure his family's financial future before he dies, Walter teams up with a former student, Jesse Pinkman, to cook and sell high-quality methamphetamine. What starts as a desperate plan to make quick money evolves into a dark journey that pushes Walter to embrace his alter ego, \"Heisenberg,\" and delve deeper into the criminal underworld.\n",
    "Throughout its five-season run, Breaking Bad explores themes of morality, family, power, and the consequences of one's choices. The show is renowned for its complex characters, intense plotlines, and the gradual evolution of Walter White from protagonist to antagonist. It also features a talented ensemble cast, including Bryan Cranston as Walter White and Aaron Paul as Jesse Pinkman, whose performances earned them multiple awards and accolades.\n",
    "Breaking Bad's impact on popular culture has been significant, inspiring spin-offs like Better Call Saul and El Camino, and setting a new standard for television storytelling. Its exploration of the blurred lines between good and evil, combined with its cinematic visuals and tightly crafted narrative, has solidified its place as one of the most influential TV series of the 21st century.\n",
    "\"\"\"\n",
    "\n",
    "entities = builder.extract_entities(text)\n",
    "builder.extract_and_add_relations(text, entities)\n",
    "builder.save_mermaid_to_file(filename=\"Breaking Bad.md\")"
   ]
  },
  {
   "cell_type": "code",
   "execution_count": null,
   "metadata": {},
   "outputs": [],
   "source": []
  }
 ],
 "metadata": {
  "kernelspec": {
   "display_name": "base",
   "language": "python",
   "name": "python3"
  },
  "language_info": {
   "codemirror_mode": {
    "name": "ipython",
    "version": 3
   },
   "file_extension": ".py",
   "mimetype": "text/x-python",
   "name": "python",
   "nbconvert_exporter": "python",
   "pygments_lexer": "ipython3",
   "version": "3.10.9"
  }
 },
 "nbformat": 4,
 "nbformat_minor": 2
}
