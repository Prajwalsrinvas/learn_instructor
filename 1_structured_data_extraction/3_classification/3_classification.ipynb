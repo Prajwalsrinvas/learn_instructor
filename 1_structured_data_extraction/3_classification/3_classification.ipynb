{
 "cells": [
  {
   "cell_type": "code",
   "execution_count": 1,
   "metadata": {},
   "outputs": [],
   "source": [
    "from typing import List\n",
    "\n",
    "import instructor\n",
    "import pandas as pd\n",
    "from dotenv import load_dotenv\n",
    "from openai import OpenAI\n",
    "from pydantic import BaseModel, Field, field_validator\n",
    "from tqdm.auto import tqdm"
   ]
  },
  {
   "cell_type": "code",
   "execution_count": 2,
   "metadata": {},
   "outputs": [
    {
     "data": {
      "text/plain": [
       "True"
      ]
     },
     "execution_count": 2,
     "metadata": {},
     "output_type": "execute_result"
    }
   ],
   "source": [
    "load_dotenv()"
   ]
  },
  {
   "cell_type": "code",
   "execution_count": 3,
   "metadata": {},
   "outputs": [],
   "source": [
    "OPENAI_MODEL = \"gpt-4o-mini\""
   ]
  },
  {
   "cell_type": "code",
   "execution_count": 4,
   "metadata": {},
   "outputs": [],
   "source": [
    "client = instructor.from_openai(OpenAI())"
   ]
  },
  {
   "cell_type": "code",
   "execution_count": 5,
   "metadata": {},
   "outputs": [
    {
     "data": {
      "text/html": [
       "<div>\n",
       "<style scoped>\n",
       "    .dataframe tbody tr th:only-of-type {\n",
       "        vertical-align: middle;\n",
       "    }\n",
       "\n",
       "    .dataframe tbody tr th {\n",
       "        vertical-align: top;\n",
       "    }\n",
       "\n",
       "    .dataframe thead th {\n",
       "        text-align: right;\n",
       "    }\n",
       "</style>\n",
       "<table border=\"1\" class=\"dataframe\">\n",
       "  <thead>\n",
       "    <tr style=\"text-align: right;\">\n",
       "      <th></th>\n",
       "      <th>question</th>\n",
       "      <th>category</th>\n",
       "    </tr>\n",
       "  </thead>\n",
       "  <tbody>\n",
       "    <tr>\n",
       "      <th>0</th>\n",
       "      <td>When will my order be delivered?</td>\n",
       "      <td>Shipping, Order Management</td>\n",
       "    </tr>\n",
       "    <tr>\n",
       "      <th>1</th>\n",
       "      <td>How do I return an item that doesn't fit?</td>\n",
       "      <td>Returns, Product Information</td>\n",
       "    </tr>\n",
       "    <tr>\n",
       "      <th>2</th>\n",
       "      <td>Is this product available in blue?</td>\n",
       "      <td>Product Information</td>\n",
       "    </tr>\n",
       "    <tr>\n",
       "      <th>3</th>\n",
       "      <td>My discount code isn't working. What should I do?</td>\n",
       "      <td>Promotions, Technical Support</td>\n",
       "    </tr>\n",
       "    <tr>\n",
       "      <th>4</th>\n",
       "      <td>Can I change my shipping address after placing...</td>\n",
       "      <td>Order Management, Shipping</td>\n",
       "    </tr>\n",
       "  </tbody>\n",
       "</table>\n",
       "</div>"
      ],
      "text/plain": [
       "                                            question  \\\n",
       "0                   When will my order be delivered?   \n",
       "1          How do I return an item that doesn't fit?   \n",
       "2                 Is this product available in blue?   \n",
       "3  My discount code isn't working. What should I do?   \n",
       "4  Can I change my shipping address after placing...   \n",
       "\n",
       "                        category  \n",
       "0     Shipping, Order Management  \n",
       "1   Returns, Product Information  \n",
       "2            Product Information  \n",
       "3  Promotions, Technical Support  \n",
       "4     Order Management, Shipping  "
      ]
     },
     "execution_count": 5,
     "metadata": {},
     "output_type": "execute_result"
    }
   ],
   "source": [
    "email_data = pd.read_csv(\"emails.csv\")\n",
    "email_data.head()"
   ]
  },
  {
   "cell_type": "code",
   "execution_count": 6,
   "metadata": {},
   "outputs": [
    {
     "data": {
      "text/plain": [
       "array(['Shipping', 'Order Management', 'Returns', 'Product Information',\n",
       "       'Promotions', 'Technical Support'], dtype=object)"
      ]
     },
     "execution_count": 6,
     "metadata": {},
     "output_type": "execute_result"
    }
   ],
   "source": [
    "categories = email_data[\"category\"].str.split(\", \").explode().unique()\n",
    "categories"
   ]
  },
  {
   "cell_type": "markdown",
   "metadata": {},
   "source": [
    "using field validator instead of `List[Literal['Shipping', 'Order Management', 'Returns', 'Product Information',\n",
    "       'Promotions', 'Technical Support']]`,  as the list of unique categories can change"
   ]
  },
  {
   "cell_type": "code",
   "execution_count": 7,
   "metadata": {},
   "outputs": [],
   "source": [
    "class Category(BaseModel):\n",
    "    category: List[str] = Field(..., min_items=1)\n",
    "\n",
    "    @field_validator(\"category\")\n",
    "    def validate_categories(cls, v):\n",
    "        for item in v:\n",
    "            if item not in categories:\n",
    "                raise ValueError(\n",
    "                    f\"Invalid category: {item}. Must be one of {categories}\"\n",
    "                )\n",
    "        return v"
   ]
  },
  {
   "cell_type": "code",
   "execution_count": 8,
   "metadata": {},
   "outputs": [
    {
     "data": {
      "application/vnd.jupyter.widget-view+json": {
       "model_id": "73cf1430d5774d2aa2667fffc5b4cb47",
       "version_major": 2,
       "version_minor": 0
      },
      "text/plain": [
       "  0%|          | 0/30 [00:00<?, ?it/s]"
      ]
     },
     "metadata": {},
     "output_type": "display_data"
    }
   ],
   "source": [
    "email_categories = []\n",
    "\n",
    "for index, row in tqdm(email_data.iterrows(), total=email_data.shape[0]):\n",
    "    email = row[\"question\"]\n",
    "    category = client.chat.completions.create(\n",
    "        model=OPENAI_MODEL,\n",
    "        max_retries=3,\n",
    "        response_model=Category,\n",
    "        messages=[\n",
    "            {\n",
    "                \"role\": \"user\",\n",
    "                \"content\": f\"Classify this email: {email}. Here are the categories to use: {', '.join(categories)}. Each email can have one or more categories.\",\n",
    "            }\n",
    "        ],\n",
    "    )\n",
    "\n",
    "    email_categories.append((email, \", \".join(category.category)))\n",
    "\n",
    "    email_data.at[index, \"predicted_category\"] = \", \".join(category.category)"
   ]
  },
  {
   "cell_type": "code",
   "execution_count": 9,
   "metadata": {},
   "outputs": [
    {
     "data": {
      "text/html": [
       "<div>\n",
       "<style scoped>\n",
       "    .dataframe tbody tr th:only-of-type {\n",
       "        vertical-align: middle;\n",
       "    }\n",
       "\n",
       "    .dataframe tbody tr th {\n",
       "        vertical-align: top;\n",
       "    }\n",
       "\n",
       "    .dataframe thead th {\n",
       "        text-align: right;\n",
       "    }\n",
       "</style>\n",
       "<table border=\"1\" class=\"dataframe\">\n",
       "  <thead>\n",
       "    <tr style=\"text-align: right;\">\n",
       "      <th></th>\n",
       "      <th>question</th>\n",
       "      <th>category</th>\n",
       "      <th>predicted_category</th>\n",
       "    </tr>\n",
       "  </thead>\n",
       "  <tbody>\n",
       "    <tr>\n",
       "      <th>0</th>\n",
       "      <td>When will my order be delivered?</td>\n",
       "      <td>Shipping, Order Management</td>\n",
       "      <td>Shipping, Order Management</td>\n",
       "    </tr>\n",
       "    <tr>\n",
       "      <th>1</th>\n",
       "      <td>How do I return an item that doesn't fit?</td>\n",
       "      <td>Returns, Product Information</td>\n",
       "      <td>Returns, Order Management</td>\n",
       "    </tr>\n",
       "    <tr>\n",
       "      <th>2</th>\n",
       "      <td>Is this product available in blue?</td>\n",
       "      <td>Product Information</td>\n",
       "      <td>Product Information</td>\n",
       "    </tr>\n",
       "  </tbody>\n",
       "</table>\n",
       "</div>"
      ],
      "text/plain": [
       "                                    question                      category  \\\n",
       "0           When will my order be delivered?    Shipping, Order Management   \n",
       "1  How do I return an item that doesn't fit?  Returns, Product Information   \n",
       "2         Is this product available in blue?           Product Information   \n",
       "\n",
       "           predicted_category  \n",
       "0  Shipping, Order Management  \n",
       "1   Returns, Order Management  \n",
       "2         Product Information  "
      ]
     },
     "execution_count": 9,
     "metadata": {},
     "output_type": "execute_result"
    }
   ],
   "source": [
    "email_data.head(3)"
   ]
  },
  {
   "cell_type": "code",
   "execution_count": 3,
   "metadata": {},
   "outputs": [],
   "source": [
    "email_data.index += 1"
   ]
  },
  {
   "cell_type": "code",
   "execution_count": 4,
   "metadata": {},
   "outputs": [],
   "source": [
    "email_data.to_csv(\"emails_with_predicted_categories.csv\", index=False)"
   ]
  },
  {
   "cell_type": "code",
   "execution_count": 5,
   "metadata": {},
   "outputs": [
    {
     "name": "stdout",
     "output_type": "stream",
     "text": [
      "Percentage of correctly predicted categories: 73.33%\n"
     ]
    }
   ],
   "source": [
    "def compare_categories(row):\n",
    "    actual = set(row[\"category\"].split(\", \"))\n",
    "    predicted = set(row[\"predicted_category\"].split(\", \"))\n",
    "\n",
    "    if actual == predicted:\n",
    "        return \"green\"\n",
    "    elif actual.intersection(predicted):\n",
    "        return \"teal\"\n",
    "    else:\n",
    "        return \"red\"\n",
    "\n",
    "\n",
    "email_data[\"comparison_result\"] = email_data.apply(compare_categories, axis=1)\n",
    "\n",
    "# Calculate the percentage of correct predictions\n",
    "total_rows = len(email_data)\n",
    "correct_predictions = len(email_data[email_data[\"comparison_result\"] == \"green\"])\n",
    "accuracy_percentage = (correct_predictions / total_rows) * 100\n",
    "\n",
    "\n",
    "def color_predicted_category(s):\n",
    "    return [\"background-color: \" + color for color in email_data[\"comparison_result\"]]\n",
    "\n",
    "\n",
    "# Create a Styler object (excluding the comparison_result column)\n",
    "display_email_data = email_data.drop(columns=[\"comparison_result\"])\n",
    "styled_email_data = display_email_data.style.apply(\n",
    "    color_predicted_category, axis=0, subset=[\"predicted_category\"]\n",
    ")\n",
    "\n",
    "# Display the accuracy percentage\n",
    "print(f\"Percentage of correctly predicted categories: {accuracy_percentage:.2f}%\")\n",
    "\n",
    "\n",
    "# Save the styled DataFrame to an HTML file\n",
    "styled_email_data.to_html(\"category_comparison_result.html\")"
   ]
  },
  {
   "cell_type": "code",
   "execution_count": 6,
   "metadata": {},
   "outputs": [
    {
     "data": {
      "text/html": [
       "<style type=\"text/css\">\n",
       "#T_36da5_row0_col2, #T_36da5_row2_col2, #T_36da5_row3_col2, #T_36da5_row4_col2, #T_36da5_row5_col2, #T_36da5_row6_col2, #T_36da5_row7_col2, #T_36da5_row9_col2, #T_36da5_row11_col2, #T_36da5_row12_col2, #T_36da5_row13_col2, #T_36da5_row15_col2, #T_36da5_row16_col2, #T_36da5_row17_col2, #T_36da5_row18_col2, #T_36da5_row20_col2, #T_36da5_row21_col2, #T_36da5_row22_col2, #T_36da5_row23_col2, #T_36da5_row24_col2, #T_36da5_row26_col2, #T_36da5_row27_col2 {\n",
       "  background-color: green;\n",
       "}\n",
       "#T_36da5_row1_col2, #T_36da5_row8_col2, #T_36da5_row10_col2, #T_36da5_row14_col2, #T_36da5_row19_col2, #T_36da5_row25_col2, #T_36da5_row28_col2, #T_36da5_row29_col2 {\n",
       "  background-color: teal;\n",
       "}\n",
       "</style>\n",
       "<table id=\"T_36da5\">\n",
       "  <thead>\n",
       "    <tr>\n",
       "      <th class=\"blank level0\" >&nbsp;</th>\n",
       "      <th id=\"T_36da5_level0_col0\" class=\"col_heading level0 col0\" >question</th>\n",
       "      <th id=\"T_36da5_level0_col1\" class=\"col_heading level0 col1\" >category</th>\n",
       "      <th id=\"T_36da5_level0_col2\" class=\"col_heading level0 col2\" >predicted_category</th>\n",
       "    </tr>\n",
       "  </thead>\n",
       "  <tbody>\n",
       "    <tr>\n",
       "      <th id=\"T_36da5_level0_row0\" class=\"row_heading level0 row0\" >1</th>\n",
       "      <td id=\"T_36da5_row0_col0\" class=\"data row0 col0\" >When will my order be delivered?</td>\n",
       "      <td id=\"T_36da5_row0_col1\" class=\"data row0 col1\" >Shipping, Order Management</td>\n",
       "      <td id=\"T_36da5_row0_col2\" class=\"data row0 col2\" >Shipping, Order Management</td>\n",
       "    </tr>\n",
       "    <tr>\n",
       "      <th id=\"T_36da5_level0_row1\" class=\"row_heading level0 row1\" >2</th>\n",
       "      <td id=\"T_36da5_row1_col0\" class=\"data row1 col0\" >How do I return an item that doesn't fit?</td>\n",
       "      <td id=\"T_36da5_row1_col1\" class=\"data row1 col1\" >Returns, Product Information</td>\n",
       "      <td id=\"T_36da5_row1_col2\" class=\"data row1 col2\" >Returns, Order Management</td>\n",
       "    </tr>\n",
       "    <tr>\n",
       "      <th id=\"T_36da5_level0_row2\" class=\"row_heading level0 row2\" >3</th>\n",
       "      <td id=\"T_36da5_row2_col0\" class=\"data row2 col0\" >Is this product available in blue?</td>\n",
       "      <td id=\"T_36da5_row2_col1\" class=\"data row2 col1\" >Product Information</td>\n",
       "      <td id=\"T_36da5_row2_col2\" class=\"data row2 col2\" >Product Information</td>\n",
       "    </tr>\n",
       "    <tr>\n",
       "      <th id=\"T_36da5_level0_row3\" class=\"row_heading level0 row3\" >4</th>\n",
       "      <td id=\"T_36da5_row3_col0\" class=\"data row3 col0\" >My discount code isn't working. What should I do?</td>\n",
       "      <td id=\"T_36da5_row3_col1\" class=\"data row3 col1\" >Promotions, Technical Support</td>\n",
       "      <td id=\"T_36da5_row3_col2\" class=\"data row3 col2\" >Promotions, Technical Support</td>\n",
       "    </tr>\n",
       "    <tr>\n",
       "      <th id=\"T_36da5_level0_row4\" class=\"row_heading level0 row4\" >5</th>\n",
       "      <td id=\"T_36da5_row4_col0\" class=\"data row4 col0\" >Can I change my shipping address after placing an order?</td>\n",
       "      <td id=\"T_36da5_row4_col1\" class=\"data row4 col1\" >Order Management, Shipping</td>\n",
       "      <td id=\"T_36da5_row4_col2\" class=\"data row4 col2\" >Shipping, Order Management</td>\n",
       "    </tr>\n",
       "    <tr>\n",
       "      <th id=\"T_36da5_level0_row5\" class=\"row_heading level0 row5\" >6</th>\n",
       "      <td id=\"T_36da5_row5_col0\" class=\"data row5 col0\" >How do I track my package?</td>\n",
       "      <td id=\"T_36da5_row5_col1\" class=\"data row5 col1\" >Shipping, Order Management</td>\n",
       "      <td id=\"T_36da5_row5_col2\" class=\"data row5 col2\" >Shipping, Order Management</td>\n",
       "    </tr>\n",
       "    <tr>\n",
       "      <th id=\"T_36da5_level0_row6\" class=\"row_heading level0 row6\" >7</th>\n",
       "      <td id=\"T_36da5_row6_col0\" class=\"data row6 col0\" >Are your products cruelty-free?</td>\n",
       "      <td id=\"T_36da5_row6_col1\" class=\"data row6 col1\" >Product Information</td>\n",
       "      <td id=\"T_36da5_row6_col2\" class=\"data row6 col2\" >Product Information</td>\n",
       "    </tr>\n",
       "    <tr>\n",
       "      <th id=\"T_36da5_level0_row7\" class=\"row_heading level0 row7\" >8</th>\n",
       "      <td id=\"T_36da5_row7_col0\" class=\"data row7 col0\" >I received a damaged item. What are the next steps?</td>\n",
       "      <td id=\"T_36da5_row7_col1\" class=\"data row7 col1\" >Returns, Order Management</td>\n",
       "      <td id=\"T_36da5_row7_col2\" class=\"data row7 col2\" >Returns, Order Management</td>\n",
       "    </tr>\n",
       "    <tr>\n",
       "      <th id=\"T_36da5_level0_row8\" class=\"row_heading level0 row8\" >9</th>\n",
       "      <td id=\"T_36da5_row8_col0\" class=\"data row8 col0\" >Do you offer international shipping?</td>\n",
       "      <td id=\"T_36da5_row8_col1\" class=\"data row8 col1\" >Shipping, Product Information</td>\n",
       "      <td id=\"T_36da5_row8_col2\" class=\"data row8 col2\" >Shipping</td>\n",
       "    </tr>\n",
       "    <tr>\n",
       "      <th id=\"T_36da5_level0_row9\" class=\"row_heading level0 row9\" >10</th>\n",
       "      <td id=\"T_36da5_row9_col0\" class=\"data row9 col0\" >How can I cancel my subscription?</td>\n",
       "      <td id=\"T_36da5_row9_col1\" class=\"data row9 col1\" >Order Management</td>\n",
       "      <td id=\"T_36da5_row9_col2\" class=\"data row9 col2\" >Order Management</td>\n",
       "    </tr>\n",
       "    <tr>\n",
       "      <th id=\"T_36da5_level0_row10\" class=\"row_heading level0 row10\" >11</th>\n",
       "      <td id=\"T_36da5_row10_col0\" class=\"data row10 col0\" >What's your refund policy for sale items?</td>\n",
       "      <td id=\"T_36da5_row10_col1\" class=\"data row10 col1\" >Returns, Promotions</td>\n",
       "      <td id=\"T_36da5_row10_col2\" class=\"data row10 col2\" >Returns</td>\n",
       "    </tr>\n",
       "    <tr>\n",
       "      <th id=\"T_36da5_level0_row11\" class=\"row_heading level0 row11\" >12</th>\n",
       "      <td id=\"T_36da5_row11_col0\" class=\"data row11 col0\" >Is it possible to expedite my order?</td>\n",
       "      <td id=\"T_36da5_row11_col1\" class=\"data row11 col1\" >Shipping, Order Management</td>\n",
       "      <td id=\"T_36da5_row11_col2\" class=\"data row11 col2\" >Order Management, Shipping</td>\n",
       "    </tr>\n",
       "    <tr>\n",
       "      <th id=\"T_36da5_level0_row12\" class=\"row_heading level0 row12\" >13</th>\n",
       "      <td id=\"T_36da5_row12_col0\" class=\"data row12 col0\" >How do I reset my password?</td>\n",
       "      <td id=\"T_36da5_row12_col1\" class=\"data row12 col1\" >Technical Support</td>\n",
       "      <td id=\"T_36da5_row12_col2\" class=\"data row12 col2\" >Technical Support</td>\n",
       "    </tr>\n",
       "    <tr>\n",
       "      <th id=\"T_36da5_level0_row13\" class=\"row_heading level0 row13\" >14</th>\n",
       "      <td id=\"T_36da5_row13_col0\" class=\"data row13 col0\" >Do you have a size guide for clothing?</td>\n",
       "      <td id=\"T_36da5_row13_col1\" class=\"data row13 col1\" >Product Information</td>\n",
       "      <td id=\"T_36da5_row13_col2\" class=\"data row13 col2\" >Product Information</td>\n",
       "    </tr>\n",
       "    <tr>\n",
       "      <th id=\"T_36da5_level0_row14\" class=\"row_heading level0 row14\" >15</th>\n",
       "      <td id=\"T_36da5_row14_col0\" class=\"data row14 col0\" >Can I combine multiple promotional codes?</td>\n",
       "      <td id=\"T_36da5_row14_col1\" class=\"data row14 col1\" >Promotions, Technical Support</td>\n",
       "      <td id=\"T_36da5_row14_col2\" class=\"data row14 col2\" >Promotions</td>\n",
       "    </tr>\n",
       "    <tr>\n",
       "      <th id=\"T_36da5_level0_row15\" class=\"row_heading level0 row15\" >16</th>\n",
       "      <td id=\"T_36da5_row15_col0\" class=\"data row15 col0\" >I'm having trouble uploading my product review. Is there a file size limit for photos?</td>\n",
       "      <td id=\"T_36da5_row15_col1\" class=\"data row15 col1\" >Technical Support, Product Information</td>\n",
       "      <td id=\"T_36da5_row15_col2\" class=\"data row15 col2\" >Technical Support, Product Information</td>\n",
       "    </tr>\n",
       "    <tr>\n",
       "      <th id=\"T_36da5_level0_row16\" class=\"row_heading level0 row16\" >17</th>\n",
       "      <td id=\"T_36da5_row16_col0\" class=\"data row16 col0\" >I ordered a gift and forgot to include a gift message. Can I add one now?</td>\n",
       "      <td id=\"T_36da5_row16_col1\" class=\"data row16 col1\" >Order Management</td>\n",
       "      <td id=\"T_36da5_row16_col2\" class=\"data row16 col2\" >Order Management</td>\n",
       "    </tr>\n",
       "    <tr>\n",
       "      <th id=\"T_36da5_level0_row17\" class=\"row_heading level0 row17\" >18</th>\n",
       "      <td id=\"T_36da5_row17_col0\" class=\"data row17 col0\" >I'm allergic to certain materials. Can you provide detailed fabric composition information?</td>\n",
       "      <td id=\"T_36da5_row17_col1\" class=\"data row17 col1\" >Product Information</td>\n",
       "      <td id=\"T_36da5_row17_col2\" class=\"data row17 col2\" >Product Information</td>\n",
       "    </tr>\n",
       "    <tr>\n",
       "      <th id=\"T_36da5_level0_row18\" class=\"row_heading level0 row18\" >19</th>\n",
       "      <td id=\"T_36da5_row18_col0\" class=\"data row18 col0\" >I've noticed that the price of an item I purchased last week has now decreased. Do you offer price adjustments?</td>\n",
       "      <td id=\"T_36da5_row18_col1\" class=\"data row18 col1\" >Promotions, Order Management</td>\n",
       "      <td id=\"T_36da5_row18_col2\" class=\"data row18 col2\" >Order Management, Promotions</td>\n",
       "    </tr>\n",
       "    <tr>\n",
       "      <th id=\"T_36da5_level0_row19\" class=\"row_heading level0 row19\" >20</th>\n",
       "      <td id=\"T_36da5_row19_col0\" class=\"data row19 col0\" >How can I ensure I'm subscribed to your newsletter?</td>\n",
       "      <td id=\"T_36da5_row19_col1\" class=\"data row19 col1\" >Technical Support, Promotions</td>\n",
       "      <td id=\"T_36da5_row19_col2\" class=\"data row19 col2\" >Promotions, Product Information</td>\n",
       "    </tr>\n",
       "    <tr>\n",
       "      <th id=\"T_36da5_level0_row20\" class=\"row_heading level0 row20\" >21</th>\n",
       "      <td id=\"T_36da5_row20_col0\" class=\"data row20 col0\" >Do you offer wholesale prices for bulk orders?</td>\n",
       "      <td id=\"T_36da5_row20_col1\" class=\"data row20 col1\" >Product Information, Promotions</td>\n",
       "      <td id=\"T_36da5_row20_col2\" class=\"data row20 col2\" >Product Information, Promotions</td>\n",
       "    </tr>\n",
       "    <tr>\n",
       "      <th id=\"T_36da5_level0_row21\" class=\"row_heading level0 row21\" >22</th>\n",
       "      <td id=\"T_36da5_row21_col0\" class=\"data row21 col0\" >I accidentally created two accounts. Can these be merged?</td>\n",
       "      <td id=\"T_36da5_row21_col1\" class=\"data row21 col1\" >Technical Support, Order Management</td>\n",
       "      <td id=\"T_36da5_row21_col2\" class=\"data row21 col2\" >Technical Support, Order Management</td>\n",
       "    </tr>\n",
       "    <tr>\n",
       "      <th id=\"T_36da5_level0_row22\" class=\"row_heading level0 row22\" >23</th>\n",
       "      <td id=\"T_36da5_row22_col0\" class=\"data row22 col0\" >The 'Add to Cart' button isn't working on your website. Is there a known issue?</td>\n",
       "      <td id=\"T_36da5_row22_col1\" class=\"data row22 col1\" >Technical Support</td>\n",
       "      <td id=\"T_36da5_row22_col2\" class=\"data row22 col2\" >Technical Support</td>\n",
       "    </tr>\n",
       "    <tr>\n",
       "      <th id=\"T_36da5_level0_row23\" class=\"row_heading level0 row23\" >24</th>\n",
       "      <td id=\"T_36da5_row23_col0\" class=\"data row23 col0\" >Do you price match with other retailers?</td>\n",
       "      <td id=\"T_36da5_row23_col1\" class=\"data row23 col1\" >Promotions, Product Information</td>\n",
       "      <td id=\"T_36da5_row23_col2\" class=\"data row23 col2\" >Product Information, Promotions</td>\n",
       "    </tr>\n",
       "    <tr>\n",
       "      <th id=\"T_36da5_level0_row24\" class=\"row_heading level0 row24\" >25</th>\n",
       "      <td id=\"T_36da5_row24_col0\" class=\"data row24 col0\" >Can I schedule a specific delivery time for my order?</td>\n",
       "      <td id=\"T_36da5_row24_col1\" class=\"data row24 col1\" >Shipping, Order Management</td>\n",
       "      <td id=\"T_36da5_row24_col2\" class=\"data row24 col2\" >Shipping, Order Management</td>\n",
       "    </tr>\n",
       "    <tr>\n",
       "      <th id=\"T_36da5_level0_row25\" class=\"row_heading level0 row25\" >26</th>\n",
       "      <td id=\"T_36da5_row25_col0\" class=\"data row25 col0\" >How do I apply for your loyalty program?</td>\n",
       "      <td id=\"T_36da5_row25_col1\" class=\"data row25 col1\" >Promotions, Order Management</td>\n",
       "      <td id=\"T_36da5_row25_col2\" class=\"data row25 col2\" >Promotions</td>\n",
       "    </tr>\n",
       "    <tr>\n",
       "      <th id=\"T_36da5_level0_row26\" class=\"row_heading level0 row26\" >27</th>\n",
       "      <td id=\"T_36da5_row26_col0\" class=\"data row26 col0\" >What's the difference between your standard and premium product lines?</td>\n",
       "      <td id=\"T_36da5_row26_col1\" class=\"data row26 col1\" >Product Information</td>\n",
       "      <td id=\"T_36da5_row26_col2\" class=\"data row26 col2\" >Product Information</td>\n",
       "    </tr>\n",
       "    <tr>\n",
       "      <th id=\"T_36da5_level0_row27\" class=\"row_heading level0 row27\" >28</th>\n",
       "      <td id=\"T_36da5_row27_col0\" class=\"data row27 col0\" >I received the wrong item in my order. How do I get this corrected?</td>\n",
       "      <td id=\"T_36da5_row27_col1\" class=\"data row27 col1\" >Returns, Order Management</td>\n",
       "      <td id=\"T_36da5_row27_col2\" class=\"data row27 col2\" >Order Management, Returns</td>\n",
       "    </tr>\n",
       "    <tr>\n",
       "      <th id=\"T_36da5_level0_row28\" class=\"row_heading level0 row28\" >29</th>\n",
       "      <td id=\"T_36da5_row28_col0\" class=\"data row28 col0\" >Is it safe to save my payment information on your website?</td>\n",
       "      <td id=\"T_36da5_row28_col1\" class=\"data row28 col1\" >Technical Support, Order Management</td>\n",
       "      <td id=\"T_36da5_row28_col2\" class=\"data row28 col2\" >Technical Support</td>\n",
       "    </tr>\n",
       "    <tr>\n",
       "      <th id=\"T_36da5_level0_row29\" class=\"row_heading level0 row29\" >30</th>\n",
       "      <td id=\"T_36da5_row29_col0\" class=\"data row29 col0\" >Do you offer gift wrapping services?</td>\n",
       "      <td id=\"T_36da5_row29_col1\" class=\"data row29 col1\" >Product Information, Order Management</td>\n",
       "      <td id=\"T_36da5_row29_col2\" class=\"data row29 col2\" >Shipping, Product Information</td>\n",
       "    </tr>\n",
       "  </tbody>\n",
       "</table>\n"
      ],
      "text/plain": [
       "<pandas.io.formats.style.Styler at 0x7331082e78e0>"
      ]
     },
     "metadata": {},
     "output_type": "display_data"
    }
   ],
   "source": [
    "# green good, teal okay, red bad\n",
    "display(styled_email_data)"
   ]
  },
  {
   "cell_type": "code",
   "execution_count": null,
   "metadata": {},
   "outputs": [],
   "source": []
  }
 ],
 "metadata": {
  "kernelspec": {
   "display_name": "base",
   "language": "python",
   "name": "python3"
  },
  "language_info": {
   "codemirror_mode": {
    "name": "ipython",
    "version": 3
   },
   "file_extension": ".py",
   "mimetype": "text/x-python",
   "name": "python",
   "nbconvert_exporter": "python",
   "pygments_lexer": "ipython3",
   "version": "3.10.9"
  }
 },
 "nbformat": 4,
 "nbformat_minor": 2
}
