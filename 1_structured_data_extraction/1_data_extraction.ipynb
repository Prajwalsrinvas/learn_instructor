{
 "cells": [
  {
   "cell_type": "code",
   "execution_count": 32,
   "metadata": {},
   "outputs": [],
   "source": [
    "from typing import List\n",
    "\n",
    "import instructor\n",
    "from dotenv import load_dotenv\n",
    "from openai import OpenAI\n",
    "from pydantic import BaseModel"
   ]
  },
  {
   "cell_type": "code",
   "execution_count": 33,
   "metadata": {},
   "outputs": [
    {
     "data": {
      "text/plain": [
       "True"
      ]
     },
     "execution_count": 33,
     "metadata": {},
     "output_type": "execute_result"
    }
   ],
   "source": [
    "load_dotenv()"
   ]
  },
  {
   "cell_type": "code",
   "execution_count": 34,
   "metadata": {},
   "outputs": [],
   "source": [
    "OPENAI_MODEL = \"gpt-4o-mini\""
   ]
  },
  {
   "cell_type": "code",
   "execution_count": 35,
   "metadata": {},
   "outputs": [],
   "source": [
    "class Employee(BaseModel):\n",
    "    name: str\n",
    "    position: str\n",
    "    department: str\n",
    "    hire_date: str\n",
    "    salary: int"
   ]
  },
  {
   "cell_type": "code",
   "execution_count": 36,
   "metadata": {},
   "outputs": [],
   "source": [
    "client = instructor.from_openai(OpenAI())"
   ]
  },
  {
   "cell_type": "markdown",
   "metadata": {},
   "source": [
    "## extract single entity"
   ]
  },
  {
   "cell_type": "code",
   "execution_count": 37,
   "metadata": {},
   "outputs": [],
   "source": [
    "text = \"\"\"\n",
    "John Doe is a Software Engineer in the IT department. He was hired on January 15, 2020, and his current salary is $85,000.\n",
    "\"\"\""
   ]
  },
  {
   "cell_type": "code",
   "execution_count": 38,
   "metadata": {},
   "outputs": [],
   "source": [
    "employee = client.chat.completions.create(\n",
    "    model=OPENAI_MODEL,\n",
    "    response_model=Employee,\n",
    "    messages=[{\"role\": \"user\", \"content\": text}],\n",
    ")"
   ]
  },
  {
   "cell_type": "code",
   "execution_count": 39,
   "metadata": {},
   "outputs": [
    {
     "data": {
      "text/plain": [
       "Employee(name='John Doe', position='Software Engineer', department='IT', hire_date='2020-01-15', salary=85000)"
      ]
     },
     "execution_count": 39,
     "metadata": {},
     "output_type": "execute_result"
    }
   ],
   "source": [
    "employee"
   ]
  },
  {
   "cell_type": "markdown",
   "metadata": {},
   "source": [
    "## extract multiple entities"
   ]
  },
  {
   "cell_type": "code",
   "execution_count": 40,
   "metadata": {},
   "outputs": [],
   "source": [
    "text = \"\"\"\n",
    "John Doe is a Software Engineer in the IT department. He was hired on January 15, 2020, and his current salary is $85,000. Jane Smith works as a Marketing Manager in the Marketing department. She started her job on March 23, 2018, and her salary is $92,000. Emily Johnson, who is a Product Manager in the Product department, joined the company on July 11, 2019, and earns $105,000. Michael Brown is a Data Analyst in the Data Science department. He was hired on October 1, 2021, with a salary of $78,000.\"\"\""
   ]
  },
  {
   "cell_type": "code",
   "execution_count": 41,
   "metadata": {},
   "outputs": [],
   "source": [
    "employees = client.chat.completions.create(\n",
    "    model=OPENAI_MODEL,\n",
    "    response_model=List[Employee],\n",
    "    messages=[{\"role\": \"user\", \"content\": text}],\n",
    ")"
   ]
  },
  {
   "cell_type": "code",
   "execution_count": 42,
   "metadata": {},
   "outputs": [
    {
     "name": "stdout",
     "output_type": "stream",
     "text": [
      "name='John Doe' position='Software Engineer' department='IT' hire_date='2020-01-15' salary=85000\n",
      "name='Jane Smith' position='Marketing Manager' department='Marketing' hire_date='2018-03-23' salary=92000\n",
      "name='Emily Johnson' position='Product Manager' department='Product' hire_date='2019-07-11' salary=105000\n",
      "name='Michael Brown' position='Data Analyst' department='Data Science' hire_date='2021-10-01' salary=78000\n"
     ]
    }
   ],
   "source": [
    "for employee in employees:\n",
    "    print(employee)"
   ]
  },
  {
   "cell_type": "markdown",
   "metadata": {},
   "source": [
    "## view LLM API response, along with the extracted data\n",
    "\n",
    "https://python.useinstructor.com/#returning-the-original-completion-create_with_completion"
   ]
  },
  {
   "cell_type": "code",
   "execution_count": 43,
   "metadata": {},
   "outputs": [],
   "source": [
    "text = \"\"\"\n",
    "John Doe is a Software Engineer in the IT department. He was hired on January 15, 2020, and his current salary is $85,000.\n",
    "\"\"\""
   ]
  },
  {
   "cell_type": "code",
   "execution_count": 44,
   "metadata": {},
   "outputs": [],
   "source": [
    "employee, completion = client.chat.completions.create_with_completion(\n",
    "    model=OPENAI_MODEL,\n",
    "    response_model=Employee,\n",
    "    messages=[{\"role\": \"user\", \"content\": text}],\n",
    ")"
   ]
  },
  {
   "cell_type": "code",
   "execution_count": 45,
   "metadata": {},
   "outputs": [
    {
     "data": {
      "text/plain": [
       "{'name': 'John Doe',\n",
       " 'position': 'Software Engineer',\n",
       " 'department': 'IT',\n",
       " 'hire_date': '2020-01-15',\n",
       " 'salary': 85000}"
      ]
     },
     "execution_count": 45,
     "metadata": {},
     "output_type": "execute_result"
    }
   ],
   "source": [
    "dict(employee)"
   ]
  },
  {
   "cell_type": "code",
   "execution_count": 46,
   "metadata": {},
   "outputs": [
    {
     "data": {
      "text/plain": [
       "{'id': 'chatcmpl-A1JeNBlORTDdGW4VmhlqhaPmoN4cL',\n",
       " 'choices': [Choice(finish_reason='stop', index=0, logprobs=None, message=ChatCompletionMessage(content=None, refusal=None, role='assistant', function_call=None, tool_calls=[ChatCompletionMessageToolCall(id='call_saJHHHtHV4KbZfgW0iW4gw1i', function=Function(arguments='{\"name\":\"John Doe\",\"position\":\"Software Engineer\",\"department\":\"IT\",\"hire_date\":\"2020-01-15\",\"salary\":85000}', name='Employee'), type='function')]))],\n",
       " 'created': 1724877227,\n",
       " 'model': 'gpt-4o-mini-2024-07-18',\n",
       " 'object': 'chat.completion',\n",
       " 'service_tier': None,\n",
       " 'system_fingerprint': 'fp_f33667828e',\n",
       " 'usage': CompletionUsage(completion_tokens=30, prompt_tokens=122, total_tokens=152)}"
      ]
     },
     "execution_count": 46,
     "metadata": {},
     "output_type": "execute_result"
    }
   ],
   "source": [
    "dict(completion)"
   ]
  },
  {
   "cell_type": "code",
   "execution_count": null,
   "metadata": {},
   "outputs": [],
   "source": []
  }
 ],
 "metadata": {
  "kernelspec": {
   "display_name": "base",
   "language": "python",
   "name": "python3"
  },
  "language_info": {
   "codemirror_mode": {
    "name": "ipython",
    "version": 3
   },
   "file_extension": ".py",
   "mimetype": "text/x-python",
   "name": "python",
   "nbconvert_exporter": "python",
   "pygments_lexer": "ipython3",
   "version": "3.10.9"
  }
 },
 "nbformat": 4,
 "nbformat_minor": 2
}
