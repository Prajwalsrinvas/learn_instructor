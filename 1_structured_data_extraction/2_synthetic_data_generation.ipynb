{
 "cells": [
  {
   "cell_type": "code",
   "execution_count": 1,
   "metadata": {},
   "outputs": [],
   "source": [
    "from typing import List\n",
    "\n",
    "import instructor\n",
    "from dotenv import load_dotenv\n",
    "from openai import OpenAI\n",
    "from pydantic import BaseModel"
   ]
  },
  {
   "cell_type": "code",
   "execution_count": 2,
   "metadata": {},
   "outputs": [
    {
     "data": {
      "text/plain": [
       "True"
      ]
     },
     "execution_count": 2,
     "metadata": {},
     "output_type": "execute_result"
    }
   ],
   "source": [
    "load_dotenv()"
   ]
  },
  {
   "cell_type": "code",
   "execution_count": 3,
   "metadata": {},
   "outputs": [],
   "source": [
    "OPENAI_MODEL = \"gpt-4o-mini\""
   ]
  },
  {
   "cell_type": "code",
   "execution_count": 4,
   "metadata": {},
   "outputs": [],
   "source": [
    "class Salary(BaseModel):\n",
    "    salary: int\n",
    "    currency: str\n",
    "\n",
    "\n",
    "class Employee(BaseModel):\n",
    "    name: str\n",
    "    position: str\n",
    "    department: str\n",
    "    hire_date: str\n",
    "    salary: Salary"
   ]
  },
  {
   "cell_type": "code",
   "execution_count": 5,
   "metadata": {},
   "outputs": [],
   "source": [
    "client = instructor.from_openai(OpenAI())"
   ]
  },
  {
   "cell_type": "code",
   "execution_count": 6,
   "metadata": {},
   "outputs": [],
   "source": [
    "employees = client.chat.completions.create(\n",
    "    model=OPENAI_MODEL,\n",
    "    response_model=List[Employee],\n",
    "    messages=[\n",
    "        {\"role\": \"user\", \"content\": \"Generate 5 employees from India, US and Europe.\"}\n",
    "    ],\n",
    ")"
   ]
  },
  {
   "cell_type": "code",
   "execution_count": 7,
   "metadata": {},
   "outputs": [
    {
     "name": "stdout",
     "output_type": "stream",
     "text": [
      "name='Rahul Sharma' position='Software Engineer' department='IT' hire_date='2021-06-15' salary=Salary(salary=60000, currency='USD')\n",
      "name='Emily Johnson' position='Project Manager' department='Operations' hire_date='2020-01-10' salary=Salary(salary=80000, currency='USD')\n",
      "name='Luca Rossi' position='Data Scientist' department='Analytics' hire_date='2019-03-20' salary=Salary(salary=75000, currency='EUR')\n",
      "name='Anjali Mehta' position='HR Executive' department='Human Resources' hire_date='2022-02-28' salary=Salary(salary=55000, currency='INR')\n",
      "name='Sophie Müller' position='Marketing Specialist' department='Marketing' hire_date='2021-07-12' salary=Salary(salary=65000, currency='EUR')\n"
     ]
    }
   ],
   "source": [
    "for employee in employees:\n",
    "    print(employee)"
   ]
  }
 ],
 "metadata": {
  "kernelspec": {
   "display_name": "base",
   "language": "python",
   "name": "python3"
  },
  "language_info": {
   "codemirror_mode": {
    "name": "ipython",
    "version": 3
   },
   "file_extension": ".py",
   "mimetype": "text/x-python",
   "name": "python",
   "nbconvert_exporter": "python",
   "pygments_lexer": "ipython3",
   "version": "3.10.9"
  }
 },
 "nbformat": 4,
 "nbformat_minor": 2
}
